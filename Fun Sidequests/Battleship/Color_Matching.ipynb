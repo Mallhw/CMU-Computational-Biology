{
 "cells": [
  {
   "cell_type": "code",
   "execution_count": 5,
   "id": "39e66e38-4da8-49e2-b996-d4f07d8d7c70",
   "metadata": {},
   "outputs": [
    {
     "name": "stdout",
     "output_type": "stream",
     "text": [
      "Welcome to the distance-based mixture explorer.\n",
      "You only provide the Euclidean distance between the unknown target and the observed color.\n",
      "Type 'quit' to exit at any prompt.\n",
      "\n",
      "Iteration 1: Suggest mixture -> [A=0.0, B=200.0, C=0.0] µL\n"
     ]
    },
    {
     "name": "stdin",
     "output_type": "stream",
     "text": [
      "Enter observed distance (float) or 'quit':  117.2\n"
     ]
    },
    {
     "name": "stdout",
     "output_type": "stream",
     "text": [
      "\n",
      "Iteration 2: Suggest mixture -> [A=85.4, B=85.4, C=29.2] µL\n"
     ]
    },
    {
     "name": "stdin",
     "output_type": "stream",
     "text": [
      "Enter observed distance (float) or 'quit':  78.9\n"
     ]
    },
    {
     "name": "stdout",
     "output_type": "stream",
     "text": [
      "\n",
      "Iteration 3: Suggest mixture -> [A=86.3, B=87.1, C=26.6] µL\n"
     ]
    },
    {
     "name": "stdin",
     "output_type": "stream",
     "text": [
      "Enter observed distance (float) or 'quit':  77.2\n"
     ]
    },
    {
     "name": "stderr",
     "output_type": "stream",
     "text": [
      "C:\\Users\\1078620\\AppData\\Local\\anaconda3\\Lib\\site-packages\\sklearn\\gaussian_process\\kernels.py:420: ConvergenceWarning: The optimal value found for dimension 0 of parameter k2__noise_level is close to the specified lower bound 1e-05. Decreasing the bound and calling fit again may find a better value.\n",
      "  warnings.warn(\n"
     ]
    },
    {
     "name": "stdout",
     "output_type": "stream",
     "text": [
      "\n",
      "Iteration 4: Suggest mixture -> [A=92.6, B=99.8, C=7.6] µL\n"
     ]
    },
    {
     "name": "stdin",
     "output_type": "stream",
     "text": [
      "Enter observed distance (float) or 'quit':  116.2\n"
     ]
    },
    {
     "name": "stderr",
     "output_type": "stream",
     "text": [
      "C:\\Users\\1078620\\AppData\\Local\\anaconda3\\Lib\\site-packages\\sklearn\\gaussian_process\\kernels.py:420: ConvergenceWarning: The optimal value found for dimension 0 of parameter k1__length_scale is close to the specified lower bound 1e-05. Decreasing the bound and calling fit again may find a better value.\n",
      "  warnings.warn(\n"
     ]
    },
    {
     "name": "stdout",
     "output_type": "stream",
     "text": [
      "\n",
      "Iteration 5: Suggest mixture -> [A=33.6, B=50.4, C=116.0] µL\n"
     ]
    },
    {
     "name": "stdin",
     "output_type": "stream",
     "text": [
      "Enter observed distance (float) or 'quit':  65.9\n"
     ]
    },
    {
     "name": "stderr",
     "output_type": "stream",
     "text": [
      "C:\\Users\\1078620\\AppData\\Local\\anaconda3\\Lib\\site-packages\\sklearn\\gaussian_process\\kernels.py:420: ConvergenceWarning: The optimal value found for dimension 0 of parameter k1__length_scale is close to the specified lower bound 1e-05. Decreasing the bound and calling fit again may find a better value.\n",
      "  warnings.warn(\n"
     ]
    },
    {
     "name": "stdout",
     "output_type": "stream",
     "text": [
      "\n",
      "Iteration 6: Suggest mixture -> [A=161.2, B=36.2, C=2.6] µL\n"
     ]
    },
    {
     "name": "stdin",
     "output_type": "stream",
     "text": [
      "Enter observed distance (float) or 'quit':  113.7\n"
     ]
    },
    {
     "name": "stderr",
     "output_type": "stream",
     "text": [
      "C:\\Users\\1078620\\AppData\\Local\\anaconda3\\Lib\\site-packages\\sklearn\\gaussian_process\\kernels.py:420: ConvergenceWarning: The optimal value found for dimension 0 of parameter k1__length_scale is close to the specified lower bound 1e-05. Decreasing the bound and calling fit again may find a better value.\n",
      "  warnings.warn(\n"
     ]
    },
    {
     "name": "stdout",
     "output_type": "stream",
     "text": [
      "\n",
      "Iteration 7: Suggest mixture -> [A=12.1, B=1.9, C=186.0] µL\n"
     ]
    },
    {
     "name": "stdin",
     "output_type": "stream",
     "text": [
      "Enter observed distance (float) or 'quit':  41.2\n"
     ]
    },
    {
     "name": "stdout",
     "output_type": "stream",
     "text": [
      "\n",
      "Iteration 8: Suggest mixture -> [A=145.9, B=1.0, C=53.0] µL\n"
     ]
    },
    {
     "name": "stdin",
     "output_type": "stream",
     "text": [
      "Enter observed distance (float) or 'quit':  12.1\n"
     ]
    },
    {
     "name": "stdout",
     "output_type": "stream",
     "text": [
      "\n",
      "Iteration 9: Suggest mixture -> [A=19.7, B=75.4, C=104.9] µL\n"
     ]
    },
    {
     "name": "stdin",
     "output_type": "stream",
     "text": [
      "Enter observed distance (float) or 'quit':  76\n"
     ]
    },
    {
     "name": "stdout",
     "output_type": "stream",
     "text": [
      "\n",
      "Iteration 10: Suggest mixture -> [A=183.3, B=14.9, C=1.9] µL\n"
     ]
    },
    {
     "name": "stdin",
     "output_type": "stream",
     "text": [
      "Enter observed distance (float) or 'quit':  112.5\n"
     ]
    },
    {
     "name": "stdout",
     "output_type": "stream",
     "text": [
      "\n",
      "Iteration 11: Suggest mixture -> [A=82.5, B=86.8, C=30.7] µL\n"
     ]
    },
    {
     "name": "stdin",
     "output_type": "stream",
     "text": [
      "Enter observed distance (float) or 'quit':  107.2\n"
     ]
    },
    {
     "name": "stderr",
     "output_type": "stream",
     "text": [
      "C:\\Users\\1078620\\AppData\\Local\\anaconda3\\Lib\\site-packages\\sklearn\\gaussian_process\\kernels.py:420: ConvergenceWarning: The optimal value found for dimension 0 of parameter k1__length_scale is close to the specified lower bound 1e-05. Decreasing the bound and calling fit again may find a better value.\n",
      "  warnings.warn(\n"
     ]
    },
    {
     "name": "stdout",
     "output_type": "stream",
     "text": [
      "\n",
      "Iteration 12: Suggest mixture -> [A=128.5, B=22.0, C=49.4] µL\n"
     ]
    },
    {
     "ename": "KeyboardInterrupt",
     "evalue": "Interrupted by user",
     "output_type": "error",
     "traceback": [
      "\u001b[1;31m---------------------------------------------------------------------------\u001b[0m",
      "\u001b[1;31mKeyboardInterrupt\u001b[0m                         Traceback (most recent call last)",
      "Cell \u001b[1;32mIn[5], line 82\u001b[0m\n\u001b[0;32m     79\u001b[0m         \u001b[38;5;28mprint\u001b[39m(\u001b[38;5;124m\"\u001b[39m\u001b[38;5;124m\"\u001b[39m)\n\u001b[0;32m     81\u001b[0m \u001b[38;5;28;01mif\u001b[39;00m \u001b[38;5;18m__name__\u001b[39m \u001b[38;5;241m==\u001b[39m \u001b[38;5;124m'\u001b[39m\u001b[38;5;124m__main__\u001b[39m\u001b[38;5;124m'\u001b[39m:\n\u001b[1;32m---> 82\u001b[0m     interactive_loop()\n",
      "Cell \u001b[1;32mIn[5], line 58\u001b[0m, in \u001b[0;36minteractive_loop\u001b[1;34m()\u001b[0m\n\u001b[0;32m     56\u001b[0m iteration \u001b[38;5;241m+\u001b[39m\u001b[38;5;241m=\u001b[39m \u001b[38;5;241m1\u001b[39m\n\u001b[0;32m     57\u001b[0m \u001b[38;5;28mprint\u001b[39m(\u001b[38;5;124mf\u001b[39m\u001b[38;5;124m\"\u001b[39m\u001b[38;5;124mIteration \u001b[39m\u001b[38;5;132;01m{\u001b[39;00miteration\u001b[38;5;132;01m}\u001b[39;00m\u001b[38;5;124m: Suggest mixture -> [A=\u001b[39m\u001b[38;5;132;01m{\u001b[39;00mx_next[\u001b[38;5;241m0\u001b[39m]\u001b[38;5;132;01m:\u001b[39;00m\u001b[38;5;124m.1f\u001b[39m\u001b[38;5;132;01m}\u001b[39;00m\u001b[38;5;124m, B=\u001b[39m\u001b[38;5;132;01m{\u001b[39;00mx_next[\u001b[38;5;241m1\u001b[39m]\u001b[38;5;132;01m:\u001b[39;00m\u001b[38;5;124m.1f\u001b[39m\u001b[38;5;132;01m}\u001b[39;00m\u001b[38;5;124m, C=\u001b[39m\u001b[38;5;132;01m{\u001b[39;00mx_next[\u001b[38;5;241m2\u001b[39m]\u001b[38;5;132;01m:\u001b[39;00m\u001b[38;5;124m.1f\u001b[39m\u001b[38;5;132;01m}\u001b[39;00m\u001b[38;5;124m] µL\u001b[39m\u001b[38;5;124m\"\u001b[39m)\n\u001b[1;32m---> 58\u001b[0m user \u001b[38;5;241m=\u001b[39m \u001b[38;5;28minput\u001b[39m(\u001b[38;5;124m\"\u001b[39m\u001b[38;5;124mEnter observed distance (float) or \u001b[39m\u001b[38;5;124m'\u001b[39m\u001b[38;5;124mquit\u001b[39m\u001b[38;5;124m'\u001b[39m\u001b[38;5;124m: \u001b[39m\u001b[38;5;124m\"\u001b[39m)\u001b[38;5;241m.\u001b[39mstrip()\n\u001b[0;32m     59\u001b[0m \u001b[38;5;28;01mif\u001b[39;00m user\u001b[38;5;241m.\u001b[39mlower() \u001b[38;5;241m==\u001b[39m \u001b[38;5;124m'\u001b[39m\u001b[38;5;124mquit\u001b[39m\u001b[38;5;124m'\u001b[39m:\n\u001b[0;32m     60\u001b[0m     \u001b[38;5;28mprint\u001b[39m(\u001b[38;5;124m\"\u001b[39m\u001b[38;5;124mExiting. Goodbye!\u001b[39m\u001b[38;5;124m\"\u001b[39m)\n",
      "File \u001b[1;32m~\\AppData\\Local\\anaconda3\\Lib\\site-packages\\ipykernel\\kernelbase.py:1262\u001b[0m, in \u001b[0;36mKernel.raw_input\u001b[1;34m(self, prompt)\u001b[0m\n\u001b[0;32m   1260\u001b[0m     msg \u001b[38;5;241m=\u001b[39m \u001b[38;5;124m\"\u001b[39m\u001b[38;5;124mraw_input was called, but this frontend does not support input requests.\u001b[39m\u001b[38;5;124m\"\u001b[39m\n\u001b[0;32m   1261\u001b[0m     \u001b[38;5;28;01mraise\u001b[39;00m StdinNotImplementedError(msg)\n\u001b[1;32m-> 1262\u001b[0m \u001b[38;5;28;01mreturn\u001b[39;00m \u001b[38;5;28mself\u001b[39m\u001b[38;5;241m.\u001b[39m_input_request(\n\u001b[0;32m   1263\u001b[0m     \u001b[38;5;28mstr\u001b[39m(prompt),\n\u001b[0;32m   1264\u001b[0m     \u001b[38;5;28mself\u001b[39m\u001b[38;5;241m.\u001b[39m_parent_ident[\u001b[38;5;124m\"\u001b[39m\u001b[38;5;124mshell\u001b[39m\u001b[38;5;124m\"\u001b[39m],\n\u001b[0;32m   1265\u001b[0m     \u001b[38;5;28mself\u001b[39m\u001b[38;5;241m.\u001b[39mget_parent(\u001b[38;5;124m\"\u001b[39m\u001b[38;5;124mshell\u001b[39m\u001b[38;5;124m\"\u001b[39m),\n\u001b[0;32m   1266\u001b[0m     password\u001b[38;5;241m=\u001b[39m\u001b[38;5;28;01mFalse\u001b[39;00m,\n\u001b[0;32m   1267\u001b[0m )\n",
      "File \u001b[1;32m~\\AppData\\Local\\anaconda3\\Lib\\site-packages\\ipykernel\\kernelbase.py:1305\u001b[0m, in \u001b[0;36mKernel._input_request\u001b[1;34m(self, prompt, ident, parent, password)\u001b[0m\n\u001b[0;32m   1302\u001b[0m \u001b[38;5;28;01mexcept\u001b[39;00m \u001b[38;5;167;01mKeyboardInterrupt\u001b[39;00m:\n\u001b[0;32m   1303\u001b[0m     \u001b[38;5;66;03m# re-raise KeyboardInterrupt, to truncate traceback\u001b[39;00m\n\u001b[0;32m   1304\u001b[0m     msg \u001b[38;5;241m=\u001b[39m \u001b[38;5;124m\"\u001b[39m\u001b[38;5;124mInterrupted by user\u001b[39m\u001b[38;5;124m\"\u001b[39m\n\u001b[1;32m-> 1305\u001b[0m     \u001b[38;5;28;01mraise\u001b[39;00m \u001b[38;5;167;01mKeyboardInterrupt\u001b[39;00m(msg) \u001b[38;5;28;01mfrom\u001b[39;00m \u001b[38;5;28;01mNone\u001b[39;00m\n\u001b[0;32m   1306\u001b[0m \u001b[38;5;28;01mexcept\u001b[39;00m \u001b[38;5;167;01mException\u001b[39;00m:\n\u001b[0;32m   1307\u001b[0m     \u001b[38;5;28mself\u001b[39m\u001b[38;5;241m.\u001b[39mlog\u001b[38;5;241m.\u001b[39mwarning(\u001b[38;5;124m\"\u001b[39m\u001b[38;5;124mInvalid Message:\u001b[39m\u001b[38;5;124m\"\u001b[39m, exc_info\u001b[38;5;241m=\u001b[39m\u001b[38;5;28;01mTrue\u001b[39;00m)\n",
      "\u001b[1;31mKeyboardInterrupt\u001b[0m: Interrupted by user"
     ]
    }
   ],
   "source": [
    "import numpy as np\n",
    "from sklearn.gaussian_process import GaussianProcessRegressor\n",
    "from sklearn.gaussian_process.kernels import Matern, WhiteKernel\n",
    "\n",
    "\n",
    "def sample_simplex(n_samples=1000, total_volume=200):\n",
    "    \"\"\"\n",
    "    Generate points uniformly on the 2-simplex scaled to total_volume.\n",
    "    \"\"\"\n",
    "    points = []\n",
    "    while len(points) < n_samples:\n",
    "        u, v = np.random.rand(), np.random.rand()\n",
    "        if u + v <= 1:\n",
    "            w = 1 - u - v\n",
    "            points.append([u, v, w])\n",
    "    return np.array(points) * total_volume\n",
    "\n",
    "\n",
    "def fit_gp(X, y, kernel=None, alpha=1e-6):\n",
    "    \"\"\"\n",
    "    Fit a single-output GP for the distance.\n",
    "    \"\"\"\n",
    "    if kernel is None:\n",
    "        base = Matern(length_scale=50.0, nu=2.5)\n",
    "        kernel = base + WhiteKernel(noise_level=1e-3)\n",
    "    gp = GaussianProcessRegressor(kernel=kernel, alpha=alpha, normalize_y=True)\n",
    "    gp.fit(X, y)\n",
    "    return gp\n",
    "\n",
    "\n",
    "def suggest_next(gp, total_volume=200, grid_size=1000):\n",
    "    \"\"\"\n",
    "    Suggest the mixture predicted to minimize the distance.\n",
    "    \"\"\"\n",
    "    grid = sample_simplex(grid_size, total_volume)\n",
    "    mu, _ = gp.predict(grid, return_std=True)\n",
    "    idx = np.argmin(mu)\n",
    "    return grid[idx]\n",
    "\n",
    "\n",
    "def interactive_loop():\n",
    "    \"\"\"\n",
    "    Interactively suggest mixtures to find the unknown target color by minimizing measured distance.\n",
    "    \"\"\"\n",
    "    X_data, y_data = [], []\n",
    "    print(\"Welcome to the distance-based mixture explorer.\")\n",
    "    print(\"You only provide the Euclidean distance between the unknown target and the observed color.\")\n",
    "    print(\"Type 'quit' to exit at any prompt.\\n\")\n",
    "\n",
    "    # Initial extreme point: test one pure liquid\n",
    "    extremes = np.eye(3) * 200\n",
    "    x_next = extremes[np.random.choice(3)]\n",
    "    iteration = 0\n",
    "\n",
    "    while True:\n",
    "        iteration += 1\n",
    "        print(f\"Iteration {iteration}: Suggest mixture -> [A={x_next[0]:.1f}, B={x_next[1]:.1f}, C={x_next[2]:.1f}] µL\")\n",
    "        user = input(\"Enter observed distance (float) or 'quit': \").strip()\n",
    "        if user.lower() == 'quit':\n",
    "            print(\"Exiting. Goodbye!\")\n",
    "            break\n",
    "        try:\n",
    "            dist = float(user)\n",
    "        except ValueError:\n",
    "            print(\"Invalid input. Please enter a numeric distance.\\n\")\n",
    "            continue\n",
    "\n",
    "        # record data\n",
    "        X_data.append(x_next)\n",
    "        y_data.append(dist)\n",
    "\n",
    "        # fit GP on distance\n",
    "        X_arr = np.vstack(X_data)\n",
    "        y_arr = np.array(y_data)\n",
    "        gp = fit_gp(X_arr, y_arr)\n",
    "\n",
    "        # suggest next mixture\n",
    "        x_next = suggest_next(gp)\n",
    "        print(\"\")\n",
    "\n",
    "if __name__ == '__main__':\n",
    "    interactive_loop()\n"
   ]
  },
  {
   "cell_type": "code",
   "execution_count": null,
   "id": "ea543625-89dc-45e9-bd98-be8aa82df6b8",
   "metadata": {},
   "outputs": [
    {
     "name": "stdout",
     "output_type": "stream",
     "text": [
      "=== Distance-Driven Mixture Optimizer ===\n",
      "Enter the observed Euclidean distance each iteration; type 'quit' to exit.\n",
      "\n",
      "Iteration 1: Suggest volumes -> A=200µL, B=0µL, C=0µL (sum=200)\n"
     ]
    },
    {
     "name": "stdin",
     "output_type": "stream",
     "text": [
      "Observed distance (or 'quit'):  67.5\n"
     ]
    },
    {
     "name": "stdout",
     "output_type": "stream",
     "text": [
      "\n",
      "Iteration 2: Suggest volumes -> A=20µL, B=159µL, C=21µL (sum=200)\n"
     ]
    },
    {
     "name": "stdin",
     "output_type": "stream",
     "text": [
      "Observed distance (or 'quit'):  90.8\n"
     ]
    },
    {
     "name": "stdout",
     "output_type": "stream",
     "text": [
      "\n",
      "Iteration 3: Suggest volumes -> A=159µL, B=21µL, C=20µL (sum=200)\n"
     ]
    },
    {
     "name": "stdin",
     "output_type": "stream",
     "text": [
      "Observed distance (or 'quit'):  41.8\n"
     ]
    },
    {
     "name": "stdout",
     "output_type": "stream",
     "text": [
      "\n",
      "Iteration 4: Suggest volumes -> A=153µL, B=24µL, C=23µL (sum=200)\n"
     ]
    },
    {
     "name": "stdin",
     "output_type": "stream",
     "text": [
      "Observed distance (or 'quit'):  46.8\n"
     ]
    },
    {
     "name": "stderr",
     "output_type": "stream",
     "text": [
      "C:\\Users\\1078620\\AppData\\Local\\anaconda3\\Lib\\site-packages\\sklearn\\gaussian_process\\kernels.py:420: ConvergenceWarning: The optimal value found for dimension 0 of parameter k2__noise_level is close to the specified lower bound 1e-05. Decreasing the bound and calling fit again may find a better value.\n",
      "  warnings.warn(\n"
     ]
    },
    {
     "name": "stdout",
     "output_type": "stream",
     "text": [
      "\n",
      "Iteration 5: Suggest volumes -> A=20µL, B=21µL, C=159µL (sum=200)\n"
     ]
    },
    {
     "name": "stdin",
     "output_type": "stream",
     "text": [
      "Observed distance (or 'quit'):  37.1\n"
     ]
    },
    {
     "name": "stdout",
     "output_type": "stream",
     "text": [
      "\n",
      "Iteration 6: Suggest volumes -> A=153µL, B=25µL, C=22µL (sum=200)\n"
     ]
    },
    {
     "name": "stdin",
     "output_type": "stream",
     "text": [
      "Observed distance (or 'quit'):  36.4\n"
     ]
    },
    {
     "name": "stderr",
     "output_type": "stream",
     "text": [
      "C:\\Users\\1078620\\AppData\\Local\\anaconda3\\Lib\\site-packages\\sklearn\\gaussian_process\\kernels.py:420: ConvergenceWarning: The optimal value found for dimension 0 of parameter k1__length_scale is close to the specified lower bound 1e-05. Decreasing the bound and calling fit again may find a better value.\n",
      "  warnings.warn(\n",
      "C:\\Users\\1078620\\AppData\\Local\\anaconda3\\Lib\\site-packages\\sklearn\\gaussian_process\\kernels.py:420: ConvergenceWarning: The optimal value found for dimension 0 of parameter k2__noise_level is close to the specified lower bound 1e-05. Decreasing the bound and calling fit again may find a better value.\n",
      "  warnings.warn(\n"
     ]
    },
    {
     "name": "stdout",
     "output_type": "stream",
     "text": [
      "\n",
      "Iteration 7: Suggest volumes -> A=26µL, B=73µL, C=101µL (sum=200)\n"
     ]
    },
    {
     "name": "stdin",
     "output_type": "stream",
     "text": [
      "Observed distance (or 'quit'):  63.3\n"
     ]
    },
    {
     "name": "stderr",
     "output_type": "stream",
     "text": [
      "C:\\Users\\1078620\\AppData\\Local\\anaconda3\\Lib\\site-packages\\sklearn\\gaussian_process\\kernels.py:420: ConvergenceWarning: The optimal value found for dimension 0 of parameter k1__length_scale is close to the specified lower bound 1e-05. Decreasing the bound and calling fit again may find a better value.\n",
      "  warnings.warn(\n",
      "C:\\Users\\1078620\\AppData\\Local\\anaconda3\\Lib\\site-packages\\sklearn\\gaussian_process\\kernels.py:420: ConvergenceWarning: The optimal value found for dimension 0 of parameter k2__noise_level is close to the specified lower bound 1e-05. Decreasing the bound and calling fit again may find a better value.\n",
      "  warnings.warn(\n"
     ]
    },
    {
     "name": "stdout",
     "output_type": "stream",
     "text": [
      "\n",
      "Iteration 8: Suggest volumes -> A=26µL, B=66µL, C=109µL (sum=201)\n"
     ]
    },
    {
     "name": "stdin",
     "output_type": "stream",
     "text": [
      "Observed distance (or 'quit'):  66.5\n"
     ]
    },
    {
     "name": "stderr",
     "output_type": "stream",
     "text": [
      "C:\\Users\\1078620\\AppData\\Local\\anaconda3\\Lib\\site-packages\\sklearn\\gaussian_process\\kernels.py:420: ConvergenceWarning: The optimal value found for dimension 0 of parameter k1__length_scale is close to the specified lower bound 1e-05. Decreasing the bound and calling fit again may find a better value.\n",
      "  warnings.warn(\n"
     ]
    },
    {
     "name": "stdout",
     "output_type": "stream",
     "text": [
      "\n",
      "Iteration 9: Suggest volumes -> A=91µL, B=35µL, C=74µL (sum=200)\n"
     ]
    },
    {
     "name": "stdin",
     "output_type": "stream",
     "text": [
      "Observed distance (or 'quit'):  21.4\n"
     ]
    },
    {
     "name": "stdout",
     "output_type": "stream",
     "text": [
      "\n",
      "Iteration 10: Suggest volumes -> A=105µL, B=46µL, C=49µL (sum=200)\n"
     ]
    },
    {
     "name": "stdin",
     "output_type": "stream",
     "text": [
      "Observed distance (or 'quit'):  9.5\n"
     ]
    },
    {
     "name": "stdout",
     "output_type": "stream",
     "text": [
      "\n",
      "Iteration 11: Suggest volumes -> A=104µL, B=70µL, C=26µL (sum=200)\n"
     ]
    }
   ],
   "source": [
    "import numpy as np\n",
    "from sklearn.gaussian_process import GaussianProcessRegressor\n",
    "from sklearn.gaussian_process.kernels import Matern, WhiteKernel\n",
    "\n",
    "MIN_VOL = 20.0    # minimum nonzero volume in µL\n",
    "TOTAL_VOL = 200.0\n",
    "GRID_SIZE = 2000  # candidate grid size\n",
    "\n",
    "\n",
    "def sample_valid_simplex(n_samples, total_volume=TOTAL_VOL, min_vol=MIN_VOL):\n",
    "    \"\"\"\n",
    "    Generate n_samples points on the simplex summing to total_volume,\n",
    "    where each component is either 0 or >= min_vol.\n",
    "    \"\"\"\n",
    "    pts = []\n",
    "    while len(pts) < n_samples:\n",
    "        u, v = np.random.rand(), np.random.rand()\n",
    "        if u + v <= 1:\n",
    "            w = 1 - u - v\n",
    "            trip = np.array([u, v, w]) * total_volume\n",
    "            # apply constraints: each vol == 0 (<= tiny) or >= min_vol\n",
    "            if all((x < 1e-6 or x >= min_vol) for x in trip):\n",
    "                pts.append(trip)\n",
    "    return np.vstack(pts)\n",
    "\n",
    "\n",
    "def fit_gp_distance(X, y, kernel=None, alpha=1e-6):\n",
    "    \"\"\"\n",
    "    Fit a single-output GP for the distance objective.\n",
    "    \"\"\"\n",
    "    if kernel is None:\n",
    "        kernel = Matern(length_scale=50.0, nu=2.5) + WhiteKernel(noise_level=1e-3)\n",
    "    gp = GaussianProcessRegressor(kernel=kernel, alpha=alpha, normalize_y=True)\n",
    "    gp.fit(X, y)\n",
    "    return gp\n",
    "\n",
    "\n",
    "def suggest_next_lcb(gp_dist, total_volume=TOTAL_VOL, grid_size=GRID_SIZE, kappa=2.0):\n",
    "    \"\"\"\n",
    "    Suggest the mixture minimizing the Lower Confidence Bound on distance:\n",
    "        LCB(x) = mu(x) - kappa * sigma(x)\n",
    "    under the volume constraints.\n",
    "    \"\"\"\n",
    "    grid = sample_valid_simplex(grid_size)\n",
    "    mu, std = gp_dist.predict(grid, return_std=True)\n",
    "    lcb = mu - kappa * std\n",
    "    return grid[np.argmin(lcb)]\n",
    "\n",
    "\n",
    "def interactive_loop():\n",
    "    \"\"\"\n",
    "    Interactive loop for distance-only optimization:\n",
    "      - Suggest volumes\n",
    "      - Prompt for observed distance\n",
    "      - Update GP and suggest next\n",
    "    Volumes are either 0 or >= MIN_VOL and sum to TOTAL_VOL.\n",
    "    \"\"\"\n",
    "    X_data, y_dist = [], []\n",
    "    print(\"=== Distance-Driven Mixture Optimizer ===\")\n",
    "    print(\"Enter the observed Euclidean distance each iteration; type 'quit' to exit.\\n\")\n",
    "\n",
    "    # Initial extremes: pure A, B, or C\n",
    "    extremes = np.eye(3) * TOTAL_VOL\n",
    "    x_next = extremes[np.random.choice(3)]\n",
    "    iteration = 0\n",
    "\n",
    "    while True:\n",
    "        iteration += 1\n",
    "        a, b, c = [round(v) for v in x_next]\n",
    "        print(f\"Iteration {iteration}: Suggest volumes -> A={a}µL, B={b}µL, C={c}µL (sum={a+b+c})\")\n",
    "\n",
    "        user = input(\"Observed distance (or 'quit'): \").strip()\n",
    "        if user.lower() == 'quit':\n",
    "            print(\"Exiting. Goodbye!\")\n",
    "            break\n",
    "        try:\n",
    "            dist = float(user)\n",
    "        except ValueError:\n",
    "            print(\"Invalid input. Please enter a numeric distance.\\n\")\n",
    "            iteration -= 1\n",
    "            continue\n",
    "\n",
    "        # Record data\n",
    "        X_data.append([a, b, c])\n",
    "        y_dist.append(dist)\n",
    "        X_arr = np.vstack(X_data)\n",
    "        y_arr = np.array(y_dist)\n",
    "\n",
    "        # Fit GP on distance\n",
    "        gp_dist = fit_gp_distance(X_arr, y_arr)\n",
    "\n",
    "        # Suggest next mixture\n",
    "        x_next = suggest_next_lcb(gp_dist)\n",
    "        print(\"\")\n",
    "\n",
    "if __name__ == '__main__':\n",
    "    interactive_loop()"
   ]
  },
  {
   "cell_type": "code",
   "execution_count": null,
   "id": "cafd9657-16e5-42b7-9982-fb6916a68c7d",
   "metadata": {},
   "outputs": [],
   "source": []
  }
 ],
 "metadata": {
  "kernelspec": {
   "display_name": "Python 3 (ipykernel)",
   "language": "python",
   "name": "python3"
  },
  "language_info": {
   "codemirror_mode": {
    "name": "ipython",
    "version": 3
   },
   "file_extension": ".py",
   "mimetype": "text/x-python",
   "name": "python",
   "nbconvert_exporter": "python",
   "pygments_lexer": "ipython3",
   "version": "3.11.7"
  }
 },
 "nbformat": 4,
 "nbformat_minor": 5
}
